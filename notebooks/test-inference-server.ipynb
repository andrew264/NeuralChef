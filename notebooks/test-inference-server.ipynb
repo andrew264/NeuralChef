{
 "cells": [
  {
   "cell_type": "code",
   "execution_count": 9,
   "id": "initial_id",
   "metadata": {
    "collapsed": true,
    "ExecuteTime": {
     "end_time": "2023-09-30T12:35:20.772570474Z",
     "start_time": "2023-09-30T12:35:20.729103994Z"
    }
   },
   "outputs": [],
   "source": [
    "import requests\n",
    "import json\n",
    "\n",
    "SERVER_URL = 'http://localhost:8000'"
   ]
  },
  {
   "cell_type": "code",
   "execution_count": 10,
   "outputs": [
    {
     "name": "stdout",
     "output_type": "stream",
     "text": [
      "  Love is a complex and multifaceted emotion that can be difficult to define with certainty. However, at its core, love is often described as a strong feeling of affection, attachment, or devotion to another person, place, or thing. It can take many forms, including romantic love, familial love, platonic love, and self-love.\n",
      "Love can manifest in different ways, such as through acts of kindness, words of affirmation, physical touch, or quality time with others. It can also be influenced by various factors, such as shared experiences, personality traits, and cultural backgrounds.\n",
      "Some common aspects of love include:\n",
      "1. Emotional connection: Love often involves strong emotions, such as joy, happiness, and contentment, when thinking about or being with the person or thing you love.\n",
      "2. Empathy and understanding: Love involves being able to understand and share the feelings of another person, including their struggles, joys, and desires.\n",
      "3. Acceptance and appreciation: Love often involves accepting and appreciating the other person for who they are, including their strengths, weaknesses, and imperfections.\n",
      "4. Commitment and loyalty: Love can involve a commitment to be there for the person or thing you love, through both good times and bad.\n",
      "5. Selflessness and sacrifice: Love may involve putting the needs of the other person or thing before your own needs, and being willing to make sacrifices for their benefit.\n",
      "Overall, love is a complex and multifaceted emotion that can be expressed in many different ways, depending on the individuals and circumstances involved."
     ]
    }
   ],
   "source": [
    "input_json = {\n",
    "    \"message\": \"What is love?\"\n",
    "}\n",
    "\n",
    "with requests.post(SERVER_URL, json=input_json, stream=True) as response:\n",
    "    if response.status_code == 200:\n",
    "        for chunk in response.iter_content(chunk_size=1):\n",
    "            if chunk:\n",
    "                print(chunk.decode('utf-8'), end=\"\", flush=True)\n",
    "    else:\n",
    "        print(f\"Request failed with status code {response.status_code}: {response.text}\")"
   ],
   "metadata": {
    "collapsed": false,
    "ExecuteTime": {
     "end_time": "2023-09-30T12:36:06.590214970Z",
     "start_time": "2023-09-30T12:35:22.295573125Z"
    }
   },
   "id": "f4de67fd4aa6e8fe"
  },
  {
   "cell_type": "code",
   "execution_count": null,
   "outputs": [],
   "source": [],
   "metadata": {
    "collapsed": false
   },
   "id": "5d227579d2f1ebf4"
  }
 ],
 "metadata": {
  "kernelspec": {
   "display_name": "Python 3",
   "language": "python",
   "name": "python3"
  },
  "language_info": {
   "codemirror_mode": {
    "name": "ipython",
    "version": 2
   },
   "file_extension": ".py",
   "mimetype": "text/x-python",
   "name": "python",
   "nbconvert_exporter": "python",
   "pygments_lexer": "ipython2",
   "version": "2.7.6"
  }
 },
 "nbformat": 4,
 "nbformat_minor": 5
}
