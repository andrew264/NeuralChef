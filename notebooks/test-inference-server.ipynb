{
 "cells": [
  {
   "cell_type": "code",
   "execution_count": null,
   "id": "initial_id",
   "metadata": {
    "collapsed": true
   },
   "outputs": [],
   "source": [
    "import requests\n",
    "import base64\n",
    "\n",
    "SERVER_URL = 'http://localhost:8000'"
   ]
  },
  {
   "cell_type": "code",
   "execution_count": null,
   "outputs": [],
   "source": [
    "try:\n",
    "    with open('../datasets/sample.jpg', 'rb') as f:\n",
    "        image = f.read()\n",
    "        image_base64 = base64.b64encode(image)\n",
    "except FileNotFoundError:\n",
    "    image_base64 = None\n",
    "    \n",
    "\n",
    "input_json = {\n",
    "    \"message\": \"Explain the contents of the image.\",\n",
    "    \"image\": image_base64.decode('utf-8')\n",
    "}\n",
    "\n",
    "# with requests.post(SERVER_URL, json=input_json, stream=True) as response:\n",
    "#     if response.status_code == 200:\n",
    "#         for chunk in response.iter_content(chunk_size=1):\n",
    "#             if chunk:\n",
    "#                 print(chunk.decode('utf-8'), end=\"\", flush=True)\n",
    "#     else:\n",
    "#         print(f\"Request failed with status code {response.status_code}: {response.text}\")"
   ],
   "metadata": {
    "collapsed": false
   },
   "id": "f4de67fd4aa6e8fe"
  },
  {
   "cell_type": "code",
   "execution_count": null,
   "outputs": [],
   "source": [
    "import asyncio\n",
    "import httpx\n",
    "\n",
    "async def async_request():\n",
    "    async with httpx.AsyncClient() as client:\n",
    "        try:\n",
    "            response = await client.post(SERVER_URL, json=input_json, timeout=40.0)\n",
    "            \n",
    "            if response.status_code == 200:\n",
    "                async for chunk in response.aiter_bytes(chunk_size=1):\n",
    "                    if chunk:\n",
    "                        print(chunk.decode('utf-8'), end=\"\", flush=True)\n",
    "            else:\n",
    "                print(f\"Request failed with status code {response.status_code}: {response.text}\")\n",
    "        except httpx.TimeoutException as exc:\n",
    "            print(f\"Request timed out: {exc}\")\n",
    "\n",
    "await async_request()"
   ],
   "metadata": {
    "collapsed": false
   },
   "id": "fae8d2f88106c6e3"
  },
  {
   "cell_type": "code",
   "execution_count": null,
   "outputs": [],
   "source": [
    "inp = {\n",
    "    'reset_dialog': True\n",
    "}\n",
    "\n",
    "async def async_request():\n",
    "    async with httpx.AsyncClient() as client:\n",
    "        try:\n",
    "            response = await client.post(SERVER_URL, json=inp)\n",
    "            \n",
    "            if response.status_code == 200:\n",
    "                print(response.text)\n",
    "            else:\n",
    "                print(f\"Request failed with status code {response.status_code}: {response.text}\")\n",
    "        except httpx.TimeoutException as exc:\n",
    "            print(f\"Request timed out: {exc}\")\n",
    "            \n",
    "await async_request()"
   ],
   "metadata": {
    "collapsed": false
   },
   "id": "f6343d62c2efa64"
  },
  {
   "cell_type": "code",
   "execution_count": null,
   "outputs": [],
   "source": [],
   "metadata": {
    "collapsed": false
   },
   "id": "9a0958356c9c56f8"
  }
 ],
 "metadata": {
  "kernelspec": {
   "display_name": "Python 3",
   "language": "python",
   "name": "python3"
  },
  "language_info": {
   "codemirror_mode": {
    "name": "ipython",
    "version": 2
   },
   "file_extension": ".py",
   "mimetype": "text/x-python",
   "name": "python",
   "nbconvert_exporter": "python",
   "pygments_lexer": "ipython2",
   "version": "2.7.6"
  }
 },
 "nbformat": 4,
 "nbformat_minor": 5
}
