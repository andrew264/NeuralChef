{
 "cells": [
  {
   "cell_type": "code",
   "execution_count": null,
   "id": "initial_id",
   "metadata": {
    "collapsed": true
   },
   "outputs": [],
   "source": [
    "import requests\n",
    "import base64\n",
    "\n",
    "SERVER_URL = 'http://localhost:8000'"
   ]
  },
  {
   "cell_type": "code",
   "execution_count": 20,
   "id": "f4de67fd4aa6e8fe",
   "metadata": {
    "ExecuteTime": {
     "end_time": "2023-10-03T16:53:27.199888950Z",
     "start_time": "2023-10-03T16:53:27.153027160Z"
    },
    "collapsed": false
   },
   "outputs": [],
   "source": [
    "try:\n",
    "    with open('../datasets/sample.jpg', 'rb') as f:\n",
    "        image = f.read()\n",
    "        image_base64 = base64.b64encode(image)\n",
    "except FileNotFoundError:\n",
    "    image_base64 = None\n",
    "    \n",
    "\n",
    "input_json = {\n",
    "    \"message\": \"Explain the contents of the image.\",\n",
    "    \"image\": image_base64.decode('utf-8')\n",
    "}\n",
    "\n",
    "# with requests.post(SERVER_URL, json=input_json, stream=True) as response:\n",
    "#     if response.status_code == 200:\n",
    "#         for chunk in response.iter_content(chunk_size=1):\n",
    "#             if chunk:\n",
    "#                 print(chunk.decode('utf-8'), end=\"\", flush=True)\n",
    "#     else:\n",
    "#         print(f\"Request failed with status code {response.status_code}: {response.text}\")"
   ]
  },
  {
   "cell_type": "code",
   "execution_count": 26,
   "id": "fae8d2f88106c6e3",
   "metadata": {
    "ExecuteTime": {
     "end_time": "2023-10-03T16:59:43.670363208Z",
     "start_time": "2023-10-03T16:59:30.570638504Z"
    },
    "collapsed": false
   },
   "outputs": [
    {
     "name": "stdout",
     "output_type": "stream",
     "text": [
      "  Hello there! Thank you for reaching out with your query. The image you've provided shows a squash leaf affected by powdery mildew, a common fungal disease that affects various plants, including squash. Powdery mildew appears as white, powdery patches on the leaves and stems of the plant, which can eventually turn yellow or brown and cause premature defoliation. This can lead to reduced fruit production and overall plant health.\n",
      "To address this issue, here are some steps you can take:\n",
      "1. Remove affected leaves: Identify and remove any affected leaves from the plant to prevent the disease from spreading.\n",
      "2. Improve air circulation: Powdery mildew thrives in crowded and humid environments. Ensure proper air circulation around your squash plants by removing any nearby weeds or debris that may be obstructing airflow.\n",
      "3. Apply a fungicide: You can use a fungicide specifically designed for powdery mildew control. Always follow the instructions on the label and take necessary safety precautions when applying any chemicals.\n",
      "4. Promote good soil health: Keep your squash plant's soil consistently moist but well-drained to prevent stress, which can make it more susceptible to disease. Add organic matter such as compost or manure to improve soil fertility and structure.\n",
      "5. Monitor the plant regularly: Regularly inspect your squash plants for signs of powdery mildew and address any issues promptly to prevent the disease from spreading.\n",
      "If you have any further questions or concerns regarding this issue, please feel free to ask!"
     ]
    }
   ],
   "source": [
    "import asyncio\n",
    "import httpx\n",
    "\n",
    "async def async_request():\n",
    "    async with httpx.AsyncClient() as client:\n",
    "        try:\n",
    "            response = await client.post(SERVER_URL, json=input_json, timeout=40.0)\n",
    "            \n",
    "            if response.status_code == 200:\n",
    "                async for chunk in response.aiter_bytes(1):\n",
    "                    if chunk:\n",
    "                        print(chunk.decode('utf-8'), end=\"\", flush=True)\n",
    "            else:\n",
    "                print(f\"Request failed with status code {response.status_code}: {response.text}\")\n",
    "        except httpx.TimeoutException as exc:\n",
    "            print(f\"Request timed out: {exc}\")\n",
    "\n",
    "await async_request()"
   ]
  },
  {
   "cell_type": "code",
   "execution_count": 25,
   "id": "f6343d62c2efa64",
   "metadata": {
    "ExecuteTime": {
     "end_time": "2023-10-03T16:59:27.550016211Z",
     "start_time": "2023-10-03T16:59:27.529643689Z"
    },
    "collapsed": false
   },
   "outputs": [
    {
     "name": "stdout",
     "output_type": "stream",
     "text": [
      "reset_dialog = True\n"
     ]
    }
   ],
   "source": [
    "inp = {\n",
    "    'reset_dialog': True\n",
    "}\n",
    "\n",
    "async def reset():\n",
    "    async with httpx.AsyncClient() as client:\n",
    "        try:\n",
    "            response = await client.post(SERVER_URL, json=inp)\n",
    "            \n",
    "            if response.status_code == 200:\n",
    "                print(response.text)\n",
    "            else:\n",
    "                print(f\"Request failed with status code {response.status_code}: {response.text}\")\n",
    "        except httpx.TimeoutException as exc:\n",
    "            print(f\"Request timed out: {exc}\")\n",
    "            \n",
    "await reset()"
   ]
  },
  {
   "cell_type": "code",
   "execution_count": null,
   "id": "9a0958356c9c56f8",
   "metadata": {
    "collapsed": false
   },
   "outputs": [],
   "source": []
  }
 ],
 "metadata": {
  "kernelspec": {
   "display_name": "Python 3",
   "language": "python",
   "name": "python3"
  },
  "language_info": {
   "codemirror_mode": {
    "name": "ipython",
    "version": 2
   },
   "file_extension": ".py",
   "mimetype": "text/x-python",
   "name": "python",
   "nbconvert_exporter": "python",
   "pygments_lexer": "ipython2",
   "version": "3.10.10"
  }
 },
 "nbformat": 4,
 "nbformat_minor": 5
}
