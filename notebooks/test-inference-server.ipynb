{
 "cells": [
  {
   "cell_type": "code",
   "execution_count": 1,
   "id": "initial_id",
   "metadata": {
    "collapsed": true,
    "ExecuteTime": {
     "end_time": "2023-10-01T00:46:51.882284224Z",
     "start_time": "2023-10-01T00:46:51.881895222Z"
    }
   },
   "outputs": [],
   "source": [
    "import requests\n",
    "import base64\n",
    "\n",
    "SERVER_URL = 'http://localhost:8000'"
   ]
  },
  {
   "cell_type": "code",
   "execution_count": 2,
   "outputs": [
    {
     "name": "stdout",
     "output_type": "stream",
     "text": [
      "  Hello! Thank you for sharing the image of the squash leaf with powdery mildew disease. Based on the description you provided, it appears that the image shows a fungal disease that is causing white, powdery patches to appear on the leaves and stems of the squash plant. This condition is known as powdery mildew, which can potentially reduce fruit production and overall plant health if left untreated.\n",
      "To better understand the situation, may I ask a few questions? Have you noticed any other symptoms on the plant aside from the powdery patches? Are there any other plants nearby that may be infected with the same disease? Additionally, have you tried any methods to treat the disease yet?\n",
      "As a helpful and respectful assistant, I would recommend taking the following steps to address the issue:\n",
      "1. Identify the cause: Before taking any action, it's essential to confirm that the powdery patches are indeed caused by powdery mildew and not another fungal disease or environmental factor. A gardening expert or a local nursery professional can help with this identification.\n",
      "2. Remove infected leaves and stems: Carefully remove any infected leaves and stems from the plant to prevent the disease from spreading further. Place the infected tissue in a sealed bag or container to avoid contaminating other plants.\n",
      "3. Improve air circulation: Good air circulation can help prevent the fungal disease from spreading. Prune nearby plants that may be overcrowding the squash plant, and ensure adequate space between each plant.\n",
      "4. Use organic fungicides: Organic fungicides like neem oil or sulfur can effectively treat powdery mildew without harming the plant or the environment. Apply these products according to the manufacturer's instructions.\n",
      "5. Water carefully: Avoid overwatering, as this can exacerbate the condition by creating moisture that fosters fungal growth. Instead, water the plants deeply but infrequently to encourage healthy root development and soil drainage.\n",
      "6. Monitor and maintain plant health: Regularly inspect the squash plant for any new powdery patches or signs of stress. Maintain optimal growing conditions, such as providing adequate sunlight, nutrients, and mulch to promote"
     ]
    }
   ],
   "source": [
    "try:\n",
    "    with open('../datasets/sample.jpg', 'rb') as f:\n",
    "        image = f.read()\n",
    "        image_base64 = base64.b64encode(image)\n",
    "except FileNotFoundError:\n",
    "    image_base64 = None\n",
    "    \n",
    "\n",
    "input_json = {\n",
    "    \"message\": \"Explain the contents of the image.\",\n",
    "    \"image\": image_base64.decode('utf-8')\n",
    "}\n",
    "\n",
    "with requests.post(SERVER_URL, json=input_json, stream=True) as response:\n",
    "    if response.status_code == 200:\n",
    "        for chunk in response.iter_content(chunk_size=1):\n",
    "            if chunk:\n",
    "                print(chunk.decode('utf-8'), end=\"\", flush=True)\n",
    "    else:\n",
    "        print(f\"Request failed with status code {response.status_code}: {response.text}\")"
   ],
   "metadata": {
    "collapsed": false,
    "ExecuteTime": {
     "end_time": "2023-10-01T00:48:13.832119151Z",
     "start_time": "2023-10-01T00:46:51.882122869Z"
    }
   },
   "id": "f4de67fd4aa6e8fe"
  }
 ],
 "metadata": {
  "kernelspec": {
   "display_name": "Python 3",
   "language": "python",
   "name": "python3"
  },
  "language_info": {
   "codemirror_mode": {
    "name": "ipython",
    "version": 2
   },
   "file_extension": ".py",
   "mimetype": "text/x-python",
   "name": "python",
   "nbconvert_exporter": "python",
   "pygments_lexer": "ipython2",
   "version": "2.7.6"
  }
 },
 "nbformat": 4,
 "nbformat_minor": 5
}
