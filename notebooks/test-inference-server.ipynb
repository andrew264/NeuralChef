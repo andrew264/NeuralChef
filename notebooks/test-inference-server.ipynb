{
 "cells": [
  {
   "cell_type": "code",
   "execution_count": 2,
   "id": "initial_id",
   "metadata": {
    "collapsed": true,
    "ExecuteTime": {
     "end_time": "2023-10-06T22:41:01.993698794Z",
     "start_time": "2023-10-06T22:41:01.959688347Z"
    }
   },
   "outputs": [],
   "source": [
    "import requests\n",
    "import base64\n",
    "\n",
    "SERVER_URL = 'http://localhost:6969'"
   ]
  },
  {
   "cell_type": "code",
   "execution_count": 3,
   "id": "f4de67fd4aa6e8fe",
   "metadata": {
    "collapsed": false,
    "ExecuteTime": {
     "end_time": "2023-10-06T22:41:02.566803567Z",
     "start_time": "2023-10-06T22:41:02.563038759Z"
    }
   },
   "outputs": [],
   "source": [
    "try:\n",
    "    with open('../datasets/sample.jpg', 'rb') as f:\n",
    "        image = f.read()\n",
    "        image_base64 = base64.b64encode(image)\n",
    "except FileNotFoundError:\n",
    "    image_base64 = None\n",
    "    \n",
    "\n",
    "input_json = {\n",
    "    \"message\": \"Explain the contents of the image.\",\n",
    "    \"image\": image_base64.decode('utf-8')\n",
    "}"
   ]
  },
  {
   "cell_type": "code",
   "execution_count": 4,
   "id": "fae8d2f88106c6e3",
   "metadata": {
    "collapsed": false,
    "ExecuteTime": {
     "end_time": "2023-10-06T22:41:16.565678225Z",
     "start_time": "2023-10-06T22:41:03.653398062Z"
    }
   },
   "outputs": [
    {
     "name": "stdout",
     "output_type": "stream",
     "text": [
      "\n",
      "Hello! Thank you for reaching out with your question. The image you provided shows a healthy-looking watermelon plant with green leaves and a ripe, red fruit on the left side. It's great to see a happy and thriving watermelon patch!\n",
      "To provide more helpful information, can you please let me know what specifically you are looking for information about regarding the watermelon? Are you interested in learning how to grow watermelons, or do you have concerns about a specific issue with your plant? Please feel free to ask any question related to agriculture and farming, and I'll do my best to assist you.\n"
     ]
    }
   ],
   "source": [
    "import httpx\n",
    "\n",
    "async def async_request():\n",
    "    async with httpx.AsyncClient() as client:\n",
    "        try:\n",
    "            response = await client.post(SERVER_URL, json=input_json, timeout=40.0)\n",
    "            \n",
    "            if response.status_code == 200:\n",
    "                print(response.json()['message'])\n",
    "            else:\n",
    "                print(f\"Request failed with status code {response.status_code}: {response.text}\")\n",
    "        except httpx.TimeoutException as exc:\n",
    "            print(f\"Request timed out: {exc}\")\n",
    "\n",
    "await async_request()"
   ]
  },
  {
   "cell_type": "code",
   "execution_count": 6,
   "id": "f6343d62c2efa64",
   "metadata": {
    "collapsed": false,
    "ExecuteTime": {
     "end_time": "2023-10-06T22:41:42.123277446Z",
     "start_time": "2023-10-06T22:41:42.100806936Z"
    }
   },
   "outputs": [
    {
     "name": "stdout",
     "output_type": "stream",
     "text": []
    }
   ],
   "source": [
    "inp = {\n",
    "    'reset_dialog': True\n",
    "}\n",
    "\n",
    "async def reset():\n",
    "    async with httpx.AsyncClient() as client:\n",
    "        try:\n",
    "            response = await client.post(SERVER_URL, json=inp)\n",
    "            \n",
    "            if response.status_code == 200:\n",
    "                print(response.text)\n",
    "            else:\n",
    "                print(f\"Request failed with status code {response.status_code}: {response.text}\")\n",
    "        except httpx.TimeoutException as exc:\n",
    "            print(f\"Request timed out: {exc}\")\n",
    "            \n",
    "await reset()"
   ]
  },
  {
   "cell_type": "code",
   "execution_count": 21,
   "id": "9a0958356c9c56f8",
   "metadata": {
    "collapsed": false,
    "ExecuteTime": {
     "end_time": "2023-10-06T22:30:10.117559158Z",
     "start_time": "2023-10-06T22:30:10.064400283Z"
    }
   },
   "outputs": [],
   "source": []
  }
 ],
 "metadata": {
  "kernelspec": {
   "display_name": "Python 3",
   "language": "python",
   "name": "python3"
  },
  "language_info": {
   "codemirror_mode": {
    "name": "ipython",
    "version": 2
   },
   "file_extension": ".py",
   "mimetype": "text/x-python",
   "name": "python",
   "nbconvert_exporter": "python",
   "pygments_lexer": "ipython2",
   "version": "3.10.10"
  }
 },
 "nbformat": 4,
 "nbformat_minor": 5
}
