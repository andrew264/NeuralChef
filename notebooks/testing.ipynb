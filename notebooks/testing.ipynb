{
 "cells": [
  {
   "cell_type": "code",
   "execution_count": 1,
   "metadata": {
    "ExecuteTime": {
     "end_time": "2023-09-25T19:57:38.139538617Z",
     "start_time": "2023-09-25T19:57:38.093578978Z"
    }
   },
   "outputs": [],
   "source": [
    "from ctransformers import AutoModelForCausalLM"
   ]
  },
  {
   "cell_type": "code",
   "execution_count": 2,
   "metadata": {
    "ExecuteTime": {
     "end_time": "2023-09-25T19:57:38.144777145Z",
     "start_time": "2023-09-25T19:57:38.140501212Z"
    }
   },
   "outputs": [],
   "source": [
    "fruit = 'CORN'\n",
    "disease = 'NORTHERN_LEAF_BLIGHT'\n",
    "desc = 'a fungal disease that causes long, cigar-shaped lesions on the leaves, often leading to reduced corn yield and quality.'"
   ]
  },
  {
   "cell_type": "code",
   "execution_count": 3,
   "metadata": {
    "ExecuteTime": {
     "end_time": "2023-09-25T19:57:38.159968793Z",
     "start_time": "2023-09-25T19:57:38.142760581Z"
    }
   },
   "outputs": [],
   "source": [
    "def get_prompt_text() -> str:\n",
    "    system_msg = \"[INST] <<SYS>>\\nYou are a helpful, respectful and honest assistant who only specializes in Farming.\" \\\n",
    "    \"so Always answer as helpfully as possible, while being safe. if the user's input is not related to farming or agriculture\"\\\n",
    "    \" Kindly dodge that question with polite answers also if the question is related to agriculture or plants \"\\\n",
    "    \"explain the steps involved clearly. \" \\\n",
    "    \"Your answers should not include any harmful, unethical, \"\\\n",
    "    \"racist, sexist, toxic, dangerous, or illegal content. Please ensure that your responses are socially \" \\\n",
    "    \"unbiased and positive in nature. If a question does not make any sense, or is not factually coherent, \" \\\n",
    "    \"explain why instead of answering something not correct. If you don't know the answer to a question, \" \\\n",
    "    \"please don't share false information.\" \\\n",
    "    \"for now you have to tell whether a given image details which is presented in \" \\\n",
    "    \"a textual format such as 'Fruit or Plant name', 'disease', 'Description of the Disease' \" \\\n",
    "    \"and you have to tell what are procedures the user should take to cure the disease of the plant or fruit.\\n<</SYS>>\\n\" \\\n",
    "    f\"The Observed data is 'Fruit or Plant name': {fruit}, 'disease':{disease}, 'Description of the Disease':{desc}[/INST]\" \\\n",
    "    \n",
    "    \n",
    "    return system_msg"
   ]
  },
  {
   "cell_type": "code",
   "execution_count": 4,
   "metadata": {
    "ExecuteTime": {
     "end_time": "2023-09-25T19:59:19.840786894Z",
     "start_time": "2023-09-25T19:57:38.160484790Z"
    }
   },
   "outputs": [
    {
     "name": "stdout",
     "output_type": "stream",
     "text": [
      "Loading model...\n",
      "Model loaded.\n",
      "Generating text...\n",
      "  Hello! I'm here to help you with any questions you have about farming, especially when it comes to corn. Based on the information you provided, it sounds like your corn crop is suffering from Northern Leaf Blight, a common fungal disease that can cause long, cigar-shaped lesions on the leaves of infected plants. This disease can lead to reduced corn yield and quality, so it's important to take steps to manage and control it.\n",
      "To start, I recommend taking a closer look at your corn plants to confirm the diagnosis. Check for any unusual yellowing or browning of the leaves, as well as any visible fungal growth on the plant. It may also be helpful to collect a sample of the affected leaves and send them to a laboratory for further analysis.\n",
      "Once you have confirmed the presence of Northern Leaf Blight, there are several steps you can take to manage the disease:\n",
      "1. Remove infected plants: If the disease is severe, it may be best to remove any infected plants to prevent the spread of the disease to other healthy plants. This can help protect the overall health and productivity of your corn crop.\n",
      "2. Improve air circulation: Good air circulation can help reduce the humidity that fosters fungal growth, so make sure there is adequate space between your corn plants. You may also want to consider using fans or other ventilation tools to improve air flow.\n",
      "3. Use fungicides: Fungicides can be effective in managing Northern Leaf Blight, especially if applied early in the season before the disease becomes severe. Be sure to follow all instructions carefully and take necessary safety precautions when handling any chemicals.\n",
      "4. Practice crop rotation: Rotating your crops can help disrupt the life cycle of the fungal pathogens that cause Northern Leaf Blight, reducing the risk of infection in future growing seasons.\n",
      "5. Consider resistant varieties: Some corn varieties are bred to be resistant to certain diseases like Northern Leaf Blight. If you are experiencing frequent outbreaks of this disease, it may be worth exploring resistant varieties for your next planting season.\n",
      "I hope these suggestions help you manage the Northern Leaf Blight in your corn crop! Remember, if you have any further questions or concerns, don't hesitate"
     ]
    }
   ],
   "source": [
    "print(\"Loading model...\")\n",
    "model = AutoModelForCausalLM.from_pretrained(\"../Bloke/model.gguf\",\n",
    "                                             model_type=\"llama\", context_length=4096, gpu_layers=25)\n",
    "print(\"Model loaded.\")\n",
    "\n",
    "print(\"Generating text...\")\n",
    "for token in model(get_prompt_text(), stream=True, top_p=0.9, temperature=1.2, batch_size=1, max_new_tokens=512,):\n",
    "    print(token, end=\"\", flush=True)"
   ]
  }
 ],
 "metadata": {
  "language_info": {
   "name": "python"
  },
  "orig_nbformat": 4,
  "kernelspec": {
   "name": "python3",
   "language": "python",
   "display_name": "Python 3 (ipykernel)"
  }
 },
 "nbformat": 4,
 "nbformat_minor": 2
}
