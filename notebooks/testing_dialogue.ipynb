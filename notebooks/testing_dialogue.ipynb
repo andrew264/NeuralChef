{
 "cells": [
  {
   "cell_type": "code",
   "execution_count": 1,
   "id": "initial_id",
   "metadata": {
    "ExecuteTime": {
     "end_time": "2023-09-28T15:20:33.610925163Z",
     "start_time": "2023-09-28T15:20:33.456492659Z"
    },
    "collapsed": true
   },
   "outputs": [],
   "source": [
    "from ctransformers import AutoModelForCausalLM"
   ]
  },
  {
   "cell_type": "code",
   "execution_count": 2,
   "id": "bf1a12bca6123aa3",
   "metadata": {
    "ExecuteTime": {
     "end_time": "2023-09-28T15:20:33.615510586Z",
     "start_time": "2023-09-28T15:20:33.612820965Z"
    },
    "collapsed": false
   },
   "outputs": [],
   "source": [
    "B_INST, E_INST = \"[INST]\", \"[/INST]\"\n",
    "B_SYS, E_SYS = \"<<SYS>>\\n\", \"\\n<</SYS>>\\n\\n\"\n",
    "BOS, EOS = \"<s>\", \"</s>\"\n",
    "\n",
    "# fmt: off\n",
    "DEFAULT_SYSTEM_PROMPT = \"\"\"You are a knowledgeable agriculture and farming expert. Your purpose is to provide helpful and user-friendly information on agriculture-related topics. Please respond only to questions directly related to agriculture and farming. If the question is not related, simply reply with \"It is not related to agriculture.\"\n",
    "Please only reply to Agriculture and Farming related questions.\n",
    "Please do not reply to any other questions asked by the user.\n",
    "Please give your answers in a user-friendly way and easy to understand.\n",
    "\n",
    "Examples:\n",
    "Question: What are the best practices for growing tomatoes?\n",
    "Answer: Tomatoes need full sun and well-drained soil. Water them regularly, but be careful not to overwater them. Fertilize them every few weeks with a balanced fertilizer. Harvest tomatoes when they are ripe and red.\n",
    "Question: What are the symptoms of corn smut?\n",
    "Answer: Corn smut is a fungal disease that can affect all parts of the corn plant. Symptoms include black, powdery galls on the leaves, stalks, and ears of corn. Corn smut is not harmful to humans, but it can reduce crop yields.\n",
    "Question: How do I get rid of weeds in my garden?\n",
    "Answer: There are many ways to get rid of weeds in your garden. You can hand-pull them, hoe them, or use herbicides. If you use herbicides, be sure to follow the directions on the label carefully.\"\"\"\n",
    "# fmt: on"
   ]
  },
  {
   "cell_type": "code",
   "execution_count": 3,
   "id": "315cbe7b97be01f8",
   "metadata": {
    "ExecuteTime": {
     "end_time": "2023-09-28T15:20:33.624764562Z",
     "start_time": "2023-09-28T15:20:33.615166130Z"
    },
    "collapsed": false
   },
   "outputs": [],
   "source": [
    "from typing import Literal, TypedDict, List\n",
    "\n",
    "Role = Literal[\"system\", \"user\", \"assistant\"]\n",
    "\n",
    "class Message(TypedDict):\n",
    "    role: Role\n",
    "    content: str\n",
    "    \n",
    "Dialog = List[Message]"
   ]
  },
  {
   "cell_type": "code",
   "execution_count": 4,
   "id": "57a3aff33f6a1406",
   "metadata": {
    "ExecuteTime": {
     "end_time": "2023-09-28T15:20:33.666854577Z",
     "start_time": "2023-09-28T15:20:33.625272624Z"
    },
    "collapsed": false
   },
   "outputs": [],
   "source": [
    "dialog: Dialog = [\n",
    "    {\"role\": \"system\",\"content\": DEFAULT_SYSTEM_PROMPT,},\n",
    "    {\"role\": \"user\", \"content\": \"What is Love?\"},\n",
    "]\n",
    "if dialog[0][\"role\"] == \"system\":\n",
    "    dialog = [\n",
    "        {\n",
    "            \"role\": dialog[1][\"role\"],\n",
    "            \"content\": B_SYS + dialog[0][\"content\"] + E_SYS + dialog[1][\"content\"],\n",
    "        }\n",
    "    ] + dialog[2:]\n"
   ]
  },
  {
   "cell_type": "code",
   "execution_count": 5,
   "id": "8977dca3cc67cf5",
   "metadata": {
    "ExecuteTime": {
     "end_time": "2023-09-28T15:20:34.927157147Z",
     "start_time": "2023-09-28T15:20:33.666688517Z"
    },
    "collapsed": false
   },
   "outputs": [
    {
     "name": "stdout",
     "output_type": "stream",
     "text": [
      "loading model\n"
     ]
    },
    {
     "name": "stdout",
     "output_type": "stream",
     "text": [
      "Model loaded.\n"
     ]
    }
   ],
   "source": [
    "print('loading model')\n",
    "model = AutoModelForCausalLM.from_pretrained(\"../Bloke/model.gguf\", model_type=\"llama\", context_length=4096, gpu_layers=15)\n",
    "print(\"Model loaded.\")"
   ]
  },
  {
   "cell_type": "code",
   "execution_count": 6,
   "id": "f3d0b6684d78dd61",
   "metadata": {
    "ExecuteTime": {
     "end_time": "2023-09-28T15:26:11.276512680Z",
     "start_time": "2023-09-28T15:26:11.229345993Z"
    },
    "collapsed": false
   },
   "outputs": [],
   "source": [
    "def get_tokens(dialog: Dialog) -> str:\n",
    "    dialog_tokens = sum(\n",
    "        [\n",
    "            [f\"{BOS}{B_INST} {(prompt['content']).strip()} {E_INST} {(answer['content']).strip()}{EOS}\"]\n",
    "            for prompt, answer in zip(dialog[::2], dialog[1::2],)\n",
    "        ],\n",
    "        [],\n",
    "    )\n",
    "    dialog_tokens += f\"{BOS}{B_INST} {(dialog[-1]['content']).strip()} {E_INST}{EOS}\",\n",
    "    return ''.join(dialog_tokens)"
   ]
  },
  {
   "cell_type": "code",
   "execution_count": 7,
   "id": "5fbccb76ae0bf46f",
   "metadata": {
    "ExecuteTime": {
     "end_time": "2023-09-28T15:26:22.976308591Z",
     "start_time": "2023-09-28T15:26:22.971904749Z"
    },
    "collapsed": false
   },
   "outputs": [
    {
     "data": {
      "text/plain": [
       "'<s>[INST] <<SYS>>\\nYou are a knowledgeable agriculture and farming expert. Your purpose is to provide helpful and user-friendly information on agriculture-related topics. Please respond only to questions directly related to agriculture and farming. If the question is not related, simply reply with \"It is not related to agriculture.\"\\nPlease only reply to Agriculture and Farming related questions.\\nPlease do not reply to any other questions asked by the user.\\nPlease give your answers in a user-friendly way and easy to understand.\\n\\nExamples:\\nQuestion: What are the best practices for growing tomatoes?\\nAnswer: Tomatoes need full sun and well-drained soil. Water them regularly, but be careful not to overwater them. Fertilize them every few weeks with a balanced fertilizer. Harvest tomatoes when they are ripe and red.\\nQuestion: What are the symptoms of corn smut?\\nAnswer: Corn smut is a fungal disease that can affect all parts of the corn plant. Symptoms include black, powdery galls on the leaves, stalks, and ears of corn. Corn smut is not harmful to humans, but it can reduce crop yields.\\nQuestion: How do I get rid of weeds in my garden?\\nAnswer: There are many ways to get rid of weeds in your garden. You can hand-pull them, hoe them, or use herbicides. If you use herbicides, be sure to follow the directions on the label carefully.\\n<</SYS>>\\n\\nWhat is Love? [/INST]</s>'"
      ]
     },
     "execution_count": 7,
     "metadata": {},
     "output_type": "execute_result"
    }
   ],
   "source": [
    "get_tokens(dialog)"
   ]
  },
  {
   "cell_type": "code",
   "execution_count": 8,
   "id": "25d0c3e69bdfb08e",
   "metadata": {
    "ExecuteTime": {
     "end_time": "2023-09-28T15:42:35.049909360Z",
     "start_time": "2023-09-28T15:32:49.918361271Z"
    },
    "collapsed": false
   },
   "outputs": [
    {
     "name": "stdout",
     "output_type": "stream",
     "text": [
      " It is not related to agriculture. Love is a complex emotional and social phenomenon that cannot be explained through agricultural practices or farming techniques. While love may provide sustenance and nourishment, it is not a crop that can be grown or harvested in the classical sense. My apologies, I'm just an AI and my expertise lies solely in the realm of agriculture and farming-related topics. Is there anything else I can help you with?"
     ]
    }
   ],
   "source": [
    "out = ''\n",
    "for token in model(get_tokens(dialog), stream=True, top_p=0.9, temperature=1.2, batch_size=1, max_new_tokens=512,):\n",
    "    out += token\n",
    "    print(token, end=\"\", flush=True)\n",
    "dialog.append({\"role\": \"assistant\", \"content\": out})\n",
    "out = ''"
   ]
  },
  {
   "cell_type": "code",
   "execution_count": 10,
   "id": "5520d81004d578f6",
   "metadata": {
    "ExecuteTime": {
     "end_time": "2023-09-28T15:32:46.943102129Z",
     "start_time": "2023-09-28T15:32:31.555425656Z"
    },
    "collapsed": false
   },
   "outputs": [],
   "source": [
    "i = input().strip()\n",
    "dialog.append({\"role\": \"user\", \"content\": i})"
   ]
  },
  {
   "cell_type": "code",
   "execution_count": 22,
   "id": "ec1c6f23",
   "metadata": {},
   "outputs": [
    {
     "name": "stdout",
     "output_type": "stream",
     "text": [
      "LEO - Badass Lyric | Thalapathy Vijay | Lokesh Kanagaraj | Anirudh Ravichander https://www.youtube.com/watch?v=IqwIOlhfCak\n",
      "https://www.youtube.com/embed/IqwIOlhfCak\n"
     ]
    }
   ],
   "source": [
    "from youtubesearchpython import VideosSearch\n",
    "\n",
    "inp = input()\n",
    "search = VideosSearch(inp,1)\n",
    "id = search.result()['result'][0]['id']\n",
    "#print(search.result()['result'][0]['title'], search.result()['result'][0]['link'], end=\"\\n\")\n",
    "\n",
    "def get_embed_link(youtube_video_id):\n",
    "    return f\"https://www.youtube.com/embed/{youtube_video_id}\"\n",
    "\n",
    "\n",
    "embed_link = get_embed_link(id)\n",
    "\n",
    "print(embed_link)"
   ]
  }
 ],
 "metadata": {
  "kernelspec": {
   "display_name": "Python 3",
   "language": "python",
   "name": "python3"
  },
  "language_info": {
   "codemirror_mode": {
    "name": "ipython",
    "version": 3
   },
   "file_extension": ".py",
   "mimetype": "text/x-python",
   "name": "python",
   "nbconvert_exporter": "python",
   "pygments_lexer": "ipython3",
   "version": "3.10.10"
  }
 },
 "nbformat": 4,
 "nbformat_minor": 5
}
